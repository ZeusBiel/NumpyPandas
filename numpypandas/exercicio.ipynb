{
 "cells": [
  {
   "cell_type": "code",
   "execution_count": 1,
   "metadata": {},
   "outputs": [],
   "source": [
    "import pandas as pd \n",
    "import numpy as np"
   ]
  },
  {
   "cell_type": "code",
   "execution_count": 22,
   "metadata": {},
   "outputs": [
    {
     "data": {
      "text/html": [
       "<div>\n",
       "<style scoped>\n",
       "    .dataframe tbody tr th:only-of-type {\n",
       "        vertical-align: middle;\n",
       "    }\n",
       "\n",
       "    .dataframe tbody tr th {\n",
       "        vertical-align: top;\n",
       "    }\n",
       "\n",
       "    .dataframe thead th {\n",
       "        text-align: right;\n",
       "    }\n",
       "</style>\n",
       "<table border=\"1\" class=\"dataframe\">\n",
       "  <thead>\n",
       "    <tr style=\"text-align: right;\">\n",
       "      <th></th>\n",
       "      <th>Velocidade Rotacao [rpm]</th>\n",
       "      <th>Torque [Nm]</th>\n",
       "    </tr>\n",
       "  </thead>\n",
       "  <tbody>\n",
       "    <tr>\n",
       "      <th>15</th>\n",
       "      <td>1542</td>\n",
       "      <td>48.4</td>\n",
       "    </tr>\n",
       "    <tr>\n",
       "      <th>16</th>\n",
       "      <td>1311</td>\n",
       "      <td>46.6</td>\n",
       "    </tr>\n",
       "    <tr>\n",
       "      <th>17</th>\n",
       "      <td>1410</td>\n",
       "      <td>45.6</td>\n",
       "    </tr>\n",
       "    <tr>\n",
       "      <th>18</th>\n",
       "      <td>1306</td>\n",
       "      <td>54.5</td>\n",
       "    </tr>\n",
       "    <tr>\n",
       "      <th>19</th>\n",
       "      <td>1632</td>\n",
       "      <td>32.5</td>\n",
       "    </tr>\n",
       "    <tr>\n",
       "      <th>20</th>\n",
       "      <td>1375</td>\n",
       "      <td>42.7</td>\n",
       "    </tr>\n",
       "    <tr>\n",
       "      <th>21</th>\n",
       "      <td>1450</td>\n",
       "      <td>44.8</td>\n",
       "    </tr>\n",
       "    <tr>\n",
       "      <th>22</th>\n",
       "      <td>1581</td>\n",
       "      <td>30.7</td>\n",
       "    </tr>\n",
       "    <tr>\n",
       "      <th>23</th>\n",
       "      <td>1758</td>\n",
       "      <td>25.7</td>\n",
       "    </tr>\n",
       "    <tr>\n",
       "      <th>24</th>\n",
       "      <td>1561</td>\n",
       "      <td>37.3</td>\n",
       "    </tr>\n",
       "    <tr>\n",
       "      <th>25</th>\n",
       "      <td>1861</td>\n",
       "      <td>23.3</td>\n",
       "    </tr>\n",
       "  </tbody>\n",
       "</table>\n",
       "</div>"
      ],
      "text/plain": [
       "    Velocidade Rotacao [rpm]  Torque [Nm]\n",
       "15                      1542         48.4\n",
       "16                      1311         46.6\n",
       "17                      1410         45.6\n",
       "18                      1306         54.5\n",
       "19                      1632         32.5\n",
       "20                      1375         42.7\n",
       "21                      1450         44.8\n",
       "22                      1581         30.7\n",
       "23                      1758         25.7\n",
       "24                      1561         37.3\n",
       "25                      1861         23.3"
      ]
     },
     "execution_count": 22,
     "metadata": {},
     "output_type": "execute_result"
    }
   ],
   "source": [
    "dados = pd.read_csv(\"manutencao_preditiva.csv\")\n",
    "matriz1 = dados[[\"Temperatura Ar [K]\",\"Torque [Nm]\"]]\n",
    "matriz2 = dados[[\"Velocidade Rotacao [rpm]\",\"Torque [Nm]\"]]\n",
    "matriz1 = matriz1.head(10)\n",
    "matriz2 = matriz2.iloc[15:26]\n",
    "matriz2"
   ]
  },
  {
   "cell_type": "code",
   "execution_count": 26,
   "metadata": {},
   "outputs": [
    {
     "name": "stdout",
     "output_type": "stream",
     "text": [
      "Temperatura Ar [K]    2981.9\n",
      "Torque [Nm]            399.1\n",
      "dtype: float64\n",
      "Velocidade Rotacao [rpm]    16787.0\n",
      "Torque [Nm]                   432.1\n",
      "dtype: float64\n"
     ]
    }
   ],
   "source": [
    "soma1 = np.sum(matriz1)\n",
    "soma2 = np.sum(matriz2)\n",
    "print(soma1)\n",
    "print(soma2)"
   ]
  },
  {
   "cell_type": "code",
   "execution_count": 27,
   "metadata": {},
   "outputs": [
    {
     "name": "stdout",
     "output_type": "stream",
     "text": [
      "Temperatura Ar [K]    298.19\n",
      "Torque [Nm]            39.91\n",
      "dtype: float64\n",
      "Velocidade Rotacao [rpm]    1526.090909\n",
      "Torque [Nm]                   39.281818\n",
      "dtype: float64\n"
     ]
    }
   ],
   "source": [
    "media1 = np.mean(matriz1,axis=0)\n",
    "media2 = np.mean(matriz2,axis=0)\n",
    "print(media1)\n",
    "print(media2)"
   ]
  },
  {
   "cell_type": "code",
   "execution_count": 29,
   "metadata": {},
   "outputs": [
    {
     "name": "stdout",
     "output_type": "stream",
     "text": [
      "Temperatura Ar [K]    298.19\n",
      "Torque [Nm]            39.91\n",
      "dtype: float64\n",
      "Velocidade Rotacao [rpm]    1526.090909\n",
      "Torque [Nm]                   39.281818\n",
      "dtype: float64\n"
     ]
    }
   ],
   "source": [
    "traspor1 = np.transpose(matriz1)\n",
    "traspor2 = np.transpose(matriz2)\n",
    "media3 = np.mean(traspor1, axis=1)\n",
    "media4 = np.mean(traspor2, axis=1)\n",
    "print(media3)\n",
    "print(media4)"
   ]
  },
  {
   "cell_type": "code",
   "execution_count": 30,
   "metadata": {},
   "outputs": [
    {
     "name": "stdout",
     "output_type": "stream",
     "text": [
      "28.0\n",
      "298.5\n"
     ]
    }
   ],
   "source": [
    "min_elementos1 = np.min(matriz1)\n",
    "max_elementos1 = np.max(matriz1)\n",
    "print(min_elementos1)\n",
    "print(max_elementos1)"
   ]
  },
  {
   "cell_type": "code",
   "execution_count": 31,
   "metadata": {},
   "outputs": [
    {
     "name": "stdout",
     "output_type": "stream",
     "text": [
      "23.3\n",
      "1861.0\n"
     ]
    }
   ],
   "source": [
    "min_elementos2 = np.min(matriz2)\n",
    "max_elementos2 = np.max(matriz2)\n",
    "print(min_elementos2)\n",
    "print(max_elementos2)"
   ]
  }
 ],
 "metadata": {
  "kernelspec": {
   "display_name": "Python 3",
   "language": "python",
   "name": "python3"
  },
  "language_info": {
   "codemirror_mode": {
    "name": "ipython",
    "version": 3
   },
   "file_extension": ".py",
   "mimetype": "text/x-python",
   "name": "python",
   "nbconvert_exporter": "python",
   "pygments_lexer": "ipython3",
   "version": "3.11.4"
  },
  "orig_nbformat": 4
 },
 "nbformat": 4,
 "nbformat_minor": 2
}
